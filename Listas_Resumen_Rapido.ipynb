{
 "cells": [
  {
   "cell_type": "markdown",
   "metadata": {},
   "source": [
    "# Listas-Resumen Rápido\n",
    "Las listas son un tipo de estructra de datos cuya cantidad y valores varían, las listas son mutables.  \n",
    "Para crear listas su notación es con [ ] corchetes en el que se tiene [start:end] \n",
    "siendo start inclusivo mientras que el end es exclusivo(es decir no se incluye) \n",
    "\n",
    "\n",
    "\n"
   ]
  },
  {
   "cell_type": "code",
   "execution_count": 38,
   "metadata": {},
   "outputs": [
    {
     "name": "stdout",
     "output_type": "stream",
     "text": [
      "['mi', 'nombre', 'es', 'sara']\n"
     ]
    }
   ],
   "source": [
    "#Creando una lista\n",
    "\n",
    "a=\"sara\"\n",
    "b=\"es\"\n",
    "mi_lista=[\"mi\", \"nombre\", b,a] #aca estamos creando una lista, como vemos esta entre corchetes\n",
    "print(mi_lista)\n"
   ]
  },
  {
   "cell_type": "markdown",
   "metadata": {},
   "source": [
    "## Entendamos un poco mas como funciona las listas\n",
    "Resulta que las listas comienzan desde la posición 0, para acceder a estas posicones lo haremos colocando corchetes [ ]\n",
    "en nuestra lista creada anteriormente \n",
    "mi_lista[0]=mi    \n",
    "Resulta que a la lista mi_lista le estamos indexando la posicion 0 y nos trae dicho valor"
   ]
  },
  {
   "cell_type": "code",
   "execution_count": 47,
   "metadata": {},
   "outputs": [
    {
     "data": {
      "text/plain": [
       "'mi'"
      ]
     },
     "execution_count": 47,
     "metadata": {},
     "output_type": "execute_result"
    }
   ],
   "source": [
    "mi_lista[0]\n"
   ]
  },
  {
   "cell_type": "code",
   "execution_count": 48,
   "metadata": {},
   "outputs": [
    {
     "data": {
      "text/plain": [
       "'nombre'"
      ]
     },
     "execution_count": 48,
     "metadata": {},
     "output_type": "execute_result"
    }
   ],
   "source": [
    "mi_lista[1]"
   ]
  },
  {
   "cell_type": "markdown",
   "metadata": {},
   "source": [
    "## Ahora si deseamos conocer el tipo de nuestra lista anterior basta con usar type"
   ]
  },
  {
   "cell_type": "code",
   "execution_count": 7,
   "metadata": {},
   "outputs": [
    {
     "name": "stdout",
     "output_type": "stream",
     "text": [
      "<class 'list'>\n"
     ]
    }
   ],
   "source": [
    "print(type(mi_lista))"
   ]
  },
  {
   "cell_type": "markdown",
   "metadata": {},
   "source": [
    "## Entendiendo que valores tomara nuestra lista [start:end]\n",
    "Para entender el start que es inclusivo y el end que es exclusivo haremos lo siguiente\n",
    "1. Vamos a crear una lista\n",
    "2. tomaremos un start y un end que será nuestra posición\n",
    "\n",
    "En arreglos y listas nuestra posición 0 sería 1. valores[0]=1 de nuestro siguiente ejemplo. \n",
    "Podemos observar que la posición 5 sería 5-1, es decir que el valor que se imprime sería de la posicón 4 en vez de ser \"hola\" de la posición 5. Esto sucede porque el end es exclusivo es decir no se incluye como si pasa en el start"
   ]
  },
  {
   "cell_type": "code",
   "execution_count": 13,
   "metadata": {},
   "outputs": [
    {
     "data": {
      "text/plain": [
       "[1, 2, 3, 4, 5]"
      ]
     },
     "execution_count": 13,
     "metadata": {},
     "output_type": "execute_result"
    }
   ],
   "source": [
    "#Creando lista\n",
    "\n",
    "valores=[1,2,3,4,5,\"hola\",\"combinando\",\"tipos\"]\n",
    "\n",
    "#Nuestro star será 0 y nuestro end será 5\n",
    "#Tomando [0:5] \n",
    "\n",
    "valores[0:5] "
   ]
  },
  {
   "cell_type": "markdown",
   "metadata": {},
   "source": [
    "## Mas ejemplos\n",
    "Observemos lo que sucede en nuestra lista con mas ejemplos "
   ]
  },
  {
   "cell_type": "code",
   "execution_count": 18,
   "metadata": {},
   "outputs": [
    {
     "data": {
      "text/plain": [
       "[2, 3, 4]"
      ]
     },
     "execution_count": 18,
     "metadata": {},
     "output_type": "execute_result"
    }
   ],
   "source": [
    "valores[1:4] #como vemos acá ya nuestro start es en la posición 1 lo que imprime el valor en esa posicion que seria 2\n",
    "             #Nuestro end seria 4-1 es decir el valor en la posicon 3 que sería 4 el valor en dicha posición\n",
    "             #valores[1]=2 y valores[3]=4"
   ]
  },
  {
   "cell_type": "code",
   "execution_count": 15,
   "metadata": {},
   "outputs": [
    {
     "data": {
      "text/plain": [
       "[1, 2]"
      ]
     },
     "execution_count": 15,
     "metadata": {},
     "output_type": "execute_result"
    }
   ],
   "source": [
    "valores[:2] #Acá nuestro start sería desde la posicón inicial miesntra que nuestro end sería 2-1 es decir el valor de\n",
    "            #la posicion 1 valores[0]=1, valores[1]=2"
   ]
  },
  {
   "cell_type": "code",
   "execution_count": 19,
   "metadata": {},
   "outputs": [
    {
     "data": {
      "text/plain": [
       "[4, 5, 'hola', 'combinando', 'tipos']"
      ]
     },
     "execution_count": 19,
     "metadata": {},
     "output_type": "execute_result"
    }
   ],
   "source": [
    "valores[3:] #Acá podemos observar que comienza con el valor de la posicón 3, valores[3]=4 \n",
    "            #y va hasta todos los siguientes valores"
   ]
  },
  {
   "cell_type": "code",
   "execution_count": 21,
   "metadata": {},
   "outputs": [
    {
     "data": {
      "text/plain": [
       "[1, 2, 3, 4, 5, 'hola', 'combinando', 'tipos']"
      ]
     },
     "execution_count": 21,
     "metadata": {},
     "output_type": "execute_result"
    }
   ],
   "source": [
    "valores[:] #En este imprime toda la lista"
   ]
  },
  {
   "cell_type": "markdown",
   "metadata": {},
   "source": [
    "## Copia de la lista de Python\n",
    "\n",
    "Copy() es un metodo que me permite devolver una copia de una lista\n",
    "Lo primero que haremos es crear una lista y luego crear una variable identificada como copia "
   ]
  },
  {
   "cell_type": "code",
   "execution_count": 22,
   "metadata": {},
   "outputs": [
    {
     "name": "stdout",
     "output_type": "stream",
     "text": [
      "[5, 2, 3]\n",
      "[5, 2, 3]\n"
     ]
    }
   ],
   "source": [
    "#Crear Lista area \n",
    "area=[1,2,3]\n",
    "area_copy=area #Aca estamos diciendo que area_copy es igual a la lista creada anteriormente\n",
    "area_copy[0]=5\n",
    "print(area)\n",
    "print(area_copy)"
   ]
  },
  {
   "cell_type": "markdown",
   "metadata": {},
   "source": [
    "Como podemos observar se me esta modificando la lista area, y nosotros no queremos que esto suceda, para evitar que se afecta mi lista area vamos a utilizar el metodo copy(), de la siguiente forma list.copy(area)\n"
   ]
  },
  {
   "cell_type": "code",
   "execution_count": 33,
   "metadata": {},
   "outputs": [
    {
     "name": "stdout",
     "output_type": "stream",
     "text": [
      "[1, 2, 3]\n",
      "[5, 2, 3]\n"
     ]
    }
   ],
   "source": [
    "area=[1,2,3]\n",
    "area_copy=list.copy(area)\n",
    "area_copy[0]=5\n",
    "print(area)\n",
    "print(area_copy)"
   ]
  },
  {
   "cell_type": "markdown",
   "metadata": {},
   "source": [
    "## Conociendo el tamaño de la lista\n",
    "Aca vamos a usar el metodo len(), este nos permitira conocer el tamaño que tiene una lista.\n",
    "Vamos a conocerlo con la lista creada area. "
   ]
  },
  {
   "cell_type": "code",
   "execution_count": 43,
   "metadata": {},
   "outputs": [
    {
     "name": "stdout",
     "output_type": "stream",
     "text": [
      "3\n"
     ]
    }
   ],
   "source": [
    "print(len(area)) #Podemos observar que area tiene un tamaño de 3 elementos\n",
    "\n"
   ]
  },
  {
   "cell_type": "markdown",
   "metadata": {},
   "source": [
    "## Agredando valores a una lista\n",
    "Para agregar valores a una lista en python vamos a usar .append(). Su sintaxis sería list.append(item)\n",
    "Comenzaremos creando una lista y agregaremos un valor. Este valor se me agregara al final de la lista\n"
   ]
  },
  {
   "cell_type": "code",
   "execution_count": 42,
   "metadata": {},
   "outputs": [
    {
     "name": "stdout",
     "output_type": "stream",
     "text": [
      "['sidarta', 'harry', 'homero', 'jack']\n"
     ]
    }
   ],
   "source": [
    "list = ['sidarta', 'harry', 'homero']\n",
    "list.append('jack')\n",
    "print(list)\n"
   ]
  },
  {
   "cell_type": "markdown",
   "metadata": {},
   "source": [
    "## Super!! hasta ahora hemos aprendido a crear una lista, conocer el tipo,  generar copias de listas, saber el tamaño que tiene una lista y agregar valores a la lista. Con esto ya tienes un gran inicio para listas en python! \n",
    "## Ahora a practicar! "
   ]
  },
  {
   "cell_type": "code",
   "execution_count": null,
   "metadata": {},
   "outputs": [],
   "source": []
  }
 ],
 "metadata": {
  "kernelspec": {
   "display_name": "Python 3",
   "language": "python",
   "name": "python3"
  },
  "language_info": {
   "codemirror_mode": {
    "name": "ipython",
    "version": 3
   },
   "file_extension": ".py",
   "mimetype": "text/x-python",
   "name": "python",
   "nbconvert_exporter": "python",
   "pygments_lexer": "ipython3",
   "version": "3.6.4"
  }
 },
 "nbformat": 4,
 "nbformat_minor": 2
}
