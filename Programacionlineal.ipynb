{
 "cells": [
  {
   "cell_type": "code",
   "execution_count": 1,
   "metadata": {
    "colab": {
     "base_uri": "https://localhost:8080/",
     "height": 187
    },
    "colab_type": "code",
    "id": "FZ-aMOPPov85",
    "outputId": "0c28c556-9b65-4942-e69c-530a09739f93"
   },
   "outputs": [
    {
     "name": "stdout",
     "output_type": "stream",
     "text": [
      "Collecting ortools\n",
      "  Downloading https://files.pythonhosted.org/packages/08/93/f3f35a5023a9b54d945f67a97e92e1d365ffa629e3eae1751963be03cc9c/ortools-6.7.4973-cp36-cp36m-macosx_10_13_x86_64.whl (7.6MB)\n",
      "\u001b[K    100% |████████████████████████████████| 7.6MB 137kB/s ta 0:00:01\n",
      "\u001b[?25hRequirement already satisfied: six>=1.10 in /anaconda3/lib/python3.6/site-packages (from ortools)\n",
      "Collecting protobuf>=3.5.1 (from ortools)\n",
      "  Downloading https://files.pythonhosted.org/packages/c7/27/133f225035b9539f2dcfebcdf9a69ff0152f56e0120160ec5c972ea7deb9/protobuf-3.6.1-cp36-cp36m-macosx_10_6_intel.macosx_10_9_intel.macosx_10_9_x86_64.macosx_10_10_intel.macosx_10_10_x86_64.whl (1.2MB)\n",
      "\u001b[K    100% |████████████████████████████████| 1.2MB 558kB/s ta 0:00:011\n",
      "\u001b[?25hRequirement already satisfied: setuptools in /anaconda3/lib/python3.6/site-packages (from protobuf>=3.5.1->ortools)\n",
      "Installing collected packages: protobuf, ortools\n",
      "Successfully installed ortools-6.7.4973 protobuf-3.6.1\n",
      "\u001b[33mYou are using pip version 9.0.1, however version 18.0 is available.\n",
      "You should consider upgrading via the 'pip install --upgrade pip' command.\u001b[0m\n",
      "Numero de variables = 2\n",
      "Numero de restricciones = 3\n",
      "Solución:\n",
      "x =  2.0\n",
      "y =  6.0\n",
      "Valor objetivo optimo = 3600.0\n"
     ]
    }
   ],
   "source": [
    "!pip install ortools\n",
    "\n",
    "from __future__ import print_function\n",
    "from ortools.linear_solver import pywraplp\n",
    "\n",
    "def main():\n",
    "  \n",
    "  solver = pywraplp.Solver('LinearExample',\n",
    "                           pywraplp.Solver.GLOP_LINEAR_PROGRAMMING)\n",
    "\n",
    "# Crea las dos variables y las deja asumir cualquier valor.\n",
    "  x = solver.NumVar(-solver.infinity(), solver.infinity(), 'x')\n",
    "  y = solver.NumVar(-solver.infinity(), solver.infinity(), 'y')\n",
    "\n",
    "  # Restricción 1: x  <= 4.\n",
    "  constraint1 = solver.Constraint(-solver.infinity(), 4)\n",
    "  constraint1.SetCoefficient(x, 1)\n",
    " \n",
    "\n",
    "  # Restricción 2: 2y <= 12.\n",
    "  constraint2 = solver.Constraint(-solver.infinity(), 12)\n",
    "  \n",
    "  constraint2.SetCoefficient(y, 2)\n",
    "\n",
    "  # Restricción 3: 3x+ 2y <= 18.\n",
    "  constraint3 = solver.Constraint(-solver.infinity(), 18)\n",
    "  constraint3.SetCoefficient(x, 3)\n",
    "  constraint3.SetCoefficient(y, 2)\n",
    "\n",
    "  # Función objetivo: 300x + 500y.\n",
    "  objective = solver.Objective()\n",
    "  objective.SetCoefficient(x, 300)\n",
    "  objective.SetCoefficient(y, 500)\n",
    "  objective.SetMaximization()\n",
    "\n",
    "  # Resuelve el sistema.\n",
    "  solver.Solve()\n",
    "  opt_solution = 300 * x.solution_value() + 500 * y.solution_value()\n",
    "  print('Numero de variables =', solver.NumVariables())\n",
    "  print('Numero de restricciones =', solver.NumConstraints())\n",
    "  print('Solución:')\n",
    "  print('x = ', x.solution_value())\n",
    "  print('y = ', y.solution_value())\n",
    "  # The objective value of the solution.\n",
    "  print('Valor objetivo optimo =', opt_solution)\n",
    "if __name__ == '__main__':\n",
    "  main()"
   ]
  },
  {
   "cell_type": "code",
   "execution_count": null,
   "metadata": {},
   "outputs": [],
   "source": []
  }
 ],
 "metadata": {
  "colab": {
   "name": "geraldine.ipynb",
   "provenance": [],
   "version": "0.3.2"
  },
  "kernelspec": {
   "display_name": "Python 3",
   "language": "python",
   "name": "python3"
  },
  "language_info": {
   "codemirror_mode": {
    "name": "ipython",
    "version": 3
   },
   "file_extension": ".py",
   "mimetype": "text/x-python",
   "name": "python",
   "nbconvert_exporter": "python",
   "pygments_lexer": "ipython3",
   "version": "3.6.4"
  }
 },
 "nbformat": 4,
 "nbformat_minor": 1
}
