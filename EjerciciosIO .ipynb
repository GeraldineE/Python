{
 "cells": [
  {
   "cell_type": "code",
   "execution_count": 2,
   "metadata": {},
   "outputs": [
    {
     "name": "stdout",
     "output_type": "stream",
     "text": [
      "ingrese cantidad de televisores2\n",
      "1624.0\n"
     ]
    }
   ],
   "source": [
    "###EJERCICIO 1 #####\n",
    "#Un almacén que vende televisores al por mayor requiere elaborar una factura de venta. \n",
    "#La factura debe mostrar el valor total a pagar y el valor de los impuestos. \n",
    "#El costo por unidad de los televisores es de $700.000 y el impuesto aplicado es del 16%.\n",
    "\n",
    "canti_uni=int(input(\"ingrese cantidad de televisores\"))\n",
    "valor_tv=700.000\n",
    "impuestos=canti_uni*valor_tv*0.16\n",
    "total_pagar=canti_uni*700+impuestos\n",
    "print(total_pagar)"
   ]
  },
  {
   "cell_type": "code",
   "execution_count": 4,
   "metadata": {},
   "outputs": [
    {
     "name": "stdout",
     "output_type": "stream",
     "text": [
      "ingrese nota14\n",
      "ingrese nota25\n",
      "ingrese nota33\n",
      "4.0\n"
     ]
    }
   ],
   "source": [
    "###EJERCICIO 2 #####\n",
    "#Un estudiante desea calcular la nota que sacará en Calculo Diferencial. \n",
    "#Asumiendo que la evaluación consiste en tres parciales de igual valor cada uno,\n",
    "#encuentre la nota definitiva dadas las notas de los parciales.\n",
    "\n",
    "#Debido a que las notas tienen el mismo valor que sería 33,33% cada una No es necesario colocar el % \n",
    "\n",
    "nota1=int(input(\"ingrese nota1\"))\n",
    "nota2=int(input(\"ingrese nota2\"))\n",
    "nota3=int(input(\"ingrese nota3\"))\n",
    "nota_final=(nota1+nota2+nota3)/3\n",
    "print(nota_final)"
   ]
  },
  {
   "cell_type": "code",
   "execution_count": 31,
   "metadata": {},
   "outputs": [
    {
     "name": "stdout",
     "output_type": "stream",
     "text": [
      "ingrese los años1\n",
      "106000.0\n"
     ]
    }
   ],
   "source": [
    "###EJERCICIO 3 #####\n",
    "##Un usuario abre una cuenta de ahorros con un saldo inicial de 1.000.000 de pesos.\n",
    "##Al año, gana 6% de interés. Calcule el saldo de la cuenta después de un año.\n",
    "\n",
    "saldo_inicial=100000\n",
    "ganancia=1+0.06\n",
    "anios=int(input(\"ingrese los años\"))\n",
    "saldo_cuenta=saldo_inicial*(1.06)**anios\n",
    "print(saldo_cuenta)"
   ]
  },
  {
   "cell_type": "code",
   "execution_count": 30,
   "metadata": {},
   "outputs": [
    {
     "ename": "SyntaxError",
     "evalue": "invalid syntax (<ipython-input-30-052f49cb756a>, line 7)",
     "output_type": "error",
     "traceback": [
      "\u001b[0;36m  File \u001b[0;32m\"<ipython-input-30-052f49cb756a>\"\u001b[0;36m, line \u001b[0;32m7\u001b[0m\n\u001b[0;31m    if (radio>=0):\u001b[0m\n\u001b[0m                 ^\u001b[0m\n\u001b[0;31mSyntaxError\u001b[0m\u001b[0;31m:\u001b[0m invalid syntax\n"
     ]
    }
   ],
   "source": [
    "###EJERCICIO 4 #####\n",
    "\n",
    "####Calcular y mostrar el perímetro de un círculo en caso de que su radio sea mayor que cero.\n",
    "\n",
    "import math\n",
    "radio=float(input(\"Ingrese radio\")\n",
    "if (radio>=0):\n",
    "    p= 2*math.pi*radio\n",
    "    print(p)\n",
    "            \n",
    "   \n",
    "else:\n",
    "     print(\"introduce un radio mayor a 0 o positivo\")\n",
    "    \n",
    "\n",
    "    \n"
   ]
  },
  {
   "cell_type": "code",
   "execution_count": null,
   "metadata": {},
   "outputs": [],
   "source": []
  },
  {
   "cell_type": "code",
   "execution_count": null,
   "metadata": {},
   "outputs": [],
   "source": []
  },
  {
   "cell_type": "code",
   "execution_count": null,
   "metadata": {},
   "outputs": [],
   "source": []
  },
  {
   "cell_type": "code",
   "execution_count": null,
   "metadata": {},
   "outputs": [],
   "source": []
  }
 ],
 "metadata": {
  "kernelspec": {
   "display_name": "Python 3",
   "language": "python",
   "name": "python3"
  },
  "language_info": {
   "codemirror_mode": {
    "name": "ipython",
    "version": 3
   },
   "file_extension": ".py",
   "mimetype": "text/x-python",
   "name": "python",
   "nbconvert_exporter": "python",
   "pygments_lexer": "ipython3",
   "version": "3.6.4"
  }
 },
 "nbformat": 4,
 "nbformat_minor": 2
}
